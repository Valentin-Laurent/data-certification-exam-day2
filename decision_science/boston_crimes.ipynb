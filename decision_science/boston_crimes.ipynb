{
 "cells": [
  {
   "cell_type": "markdown",
   "metadata": {},
   "source": [
    "\n",
    "# Advisory mission for the Boston municipal authorities\n",
    "\n",
    "\n",
    "![title](assets/boston_logo.png)"
   ]
  },
  {
   "cell_type": "markdown",
   "metadata": {},
   "source": [
    "Welcome to the Decision Science exercise of your data certification exam!\n",
    "\n",
    "Here are a few words to describe how the `decision_science` directory is organised:"
   ]
  },
  {
   "cell_type": "code",
   "execution_count": 1,
   "metadata": {
    "ExecuteTime": {
     "end_time": "2021-06-29T07:38:08.639507Z",
     "start_time": "2021-06-29T07:38:08.481593Z"
    }
   },
   "outputs": [
    {
     "name": "stdout",
     "output_type": "stream",
     "text": [
      "\u001b[01;34m.\u001b[00m\r\n",
      "├── README.md\r\n",
      "├── boston_crimes.ipynb\r\n",
      "├── \u001b[01;34mdata\u001b[00m\r\n",
      "├── data.py\r\n",
      "├── \u001b[01;34mdb\u001b[00m\r\n",
      "└── \u001b[01;34mtests\u001b[00m\r\n",
      "\r\n",
      "3 directories, 3 files\r\n"
     ]
    }
   ],
   "source": [
    "# Start by running this cell to see the architecture of the directory\n",
    "!tree"
   ]
  },
  {
   "cell_type": "markdown",
   "metadata": {},
   "source": [
    "- the `boston_crimes.ipynb` notebook that you currently have under your eyes is the main document. You will find all the instructions here and except when it is explicitly specified, you should provide all your answers in this notebook;\n",
    "\n",
    "\n",
    "- the `data` and `db` folders will be filled-in throughout the exercise respectively with `.csv` datasets and a `.sqlite` file, for you to run all your analyses; \n",
    "\n",
    "\n",
    "- you will not have to interact with the `assets` folder for this exercise;\n",
    "\n",
    "\n",
    "- the `tests` folder will contain all the `.pickle` files that will be saved throughout the exercise with your key findings. Please run all the \"Save your results\" cells when completing the exercise!"
   ]
  },
  {
   "cell_type": "markdown",
   "metadata": {},
   "source": [
    "⚠️ **Important remark** before you dive into the exercise. This notebook is quite long and it is easy to get lost in it: take full advantage of the collapsible headers and of the table of content. If you have not yet activated these Jupyter Notebook extensions, you may consider doing so now!"
   ]
  },
  {
   "cell_type": "markdown",
   "metadata": {
    "heading_collapsed": true
   },
   "source": [
    "# Imports"
   ]
  },
  {
   "cell_type": "markdown",
   "metadata": {
    "hidden": true
   },
   "source": [
    "You can use this section to run your imports in a centralised manner throughout the exercise."
   ]
  },
  {
   "cell_type": "code",
   "execution_count": 2,
   "metadata": {
    "ExecuteTime": {
     "end_time": "2021-06-29T07:39:06.467960Z",
     "start_time": "2021-06-29T07:39:06.445036Z"
    },
    "hidden": true
   },
   "outputs": [],
   "source": [
    "# Load the nbresult package to be able to save your results \n",
    "from nbresult import ChallengeResult"
   ]
  },
  {
   "cell_type": "code",
   "execution_count": 3,
   "metadata": {
    "ExecuteTime": {
     "end_time": "2021-06-29T07:39:08.776271Z",
     "start_time": "2021-06-29T07:39:08.772478Z"
    },
    "hidden": true
   },
   "outputs": [],
   "source": [
    "# Useful import for data collection\n",
    "import sqlite3"
   ]
  },
  {
   "cell_type": "code",
   "execution_count": 4,
   "metadata": {
    "ExecuteTime": {
     "end_time": "2021-06-29T07:39:10.201241Z",
     "start_time": "2021-06-29T07:39:09.488801Z"
    },
    "hidden": true
   },
   "outputs": [],
   "source": [
    "# Useful imports for data manipulation and analysis\n",
    "import numpy as np\n",
    "import pandas as pd"
   ]
  },
  {
   "cell_type": "code",
   "execution_count": 5,
   "metadata": {
    "ExecuteTime": {
     "end_time": "2021-06-29T07:39:11.576067Z",
     "start_time": "2021-06-29T07:39:10.204116Z"
    },
    "hidden": true
   },
   "outputs": [],
   "source": [
    "# Useful imports for data visualisation\n",
    "import matplotlib.pyplot as plt\n",
    "import seaborn as sns"
   ]
  },
  {
   "cell_type": "code",
   "execution_count": 6,
   "metadata": {
    "ExecuteTime": {
     "end_time": "2021-06-29T07:39:11.871425Z",
     "start_time": "2021-06-29T07:39:11.579407Z"
    },
    "hidden": true
   },
   "outputs": [],
   "source": [
    "# Useful imports to estimate regression models\n",
    "import statsmodels.formula.api as smf"
   ]
  },
  {
   "cell_type": "markdown",
   "metadata": {},
   "source": [
    "# 1. Analysis for the mayor's team"
   ]
  },
  {
   "cell_type": "markdown",
   "metadata": {},
   "source": [
    "During the last municipal campaign in Boston, criminality has been a major topic of debates. As citizens have expressed strong expectations from her on that front, the newly-elected mayor of Boston is looking for data-based insights on criminality in the Massachussetts capital. She has mandated your economics and urbanism consulting firm, *The Locomotive*, for this study."
   ]
  },
  {
   "cell_type": "markdown",
   "metadata": {
    "heading_collapsed": true
   },
   "source": [
    "## 1.1 Load the database"
   ]
  },
  {
   "cell_type": "markdown",
   "metadata": {
    "hidden": true
   },
   "source": [
    "Download the `boston_crimes.sqlite` database from this [URL](https://wagon-public-datasets.s3.amazonaws.com/certification_france_2021_q2/boston_crimes.sqlite) and store it inside the `db` folder."
   ]
  },
  {
   "cell_type": "code",
   "execution_count": 7,
   "metadata": {
    "ExecuteTime": {
     "end_time": "2021-06-29T07:40:24.967856Z",
     "start_time": "2021-06-29T07:40:23.689511Z"
    },
    "hidden": true
   },
   "outputs": [
    {
     "name": "stdout",
     "output_type": "stream",
     "text": [
      "  % Total    % Received % Xferd  Average Speed   Time    Time     Time  Current\n",
      "                                 Dload  Upload   Total   Spent    Left  Speed\n",
      "100 19.1M  100 19.1M    0     0  18.3M      0  0:00:01  0:00:01 --:--:-- 18.4M\n"
     ]
    }
   ],
   "source": [
    "# You may directly run this cell to do so\n",
    "!curl https://wagon-public-datasets.s3.amazonaws.com/certification_france_2021_q2/boston_crimes.sqlite > db/boston_crimes.sqlite"
   ]
  },
  {
   "cell_type": "markdown",
   "metadata": {
    "heading_collapsed": true
   },
   "source": [
    "## 1.2 Familiarize yourself with the database"
   ]
  },
  {
   "cell_type": "markdown",
   "metadata": {
    "hidden": true
   },
   "source": [
    "This section aims at giving you a first overview of the database. \n",
    "\n",
    "As you will see, it consists in three tables: \n",
    "\n",
    "- the `incident_reports` table has been provided by the Police Department of Boston. Each observation corresponds to a criminal incident that has required an intervention by the police in the municipality of Boston;  \n",
    "\n",
    "\n",
    "\n",
    "- the `districts` table has been provided by the Urbanism Department of Boston. It gathers geographical information about the various police districts of Boston;  \n",
    "\n",
    "\n",
    "\n",
    "- and the `indicators` table has been shared by the Economics Department of Boston, which keeps track of various indicators of the social and economic activity of Boston neighborhoods. Each observation corresponds to a police district.\n",
    "\n",
    "More information about the different fields of these three tables can be found in the dedicated `README.md` file"
   ]
  },
  {
   "cell_type": "markdown",
   "metadata": {
    "heading_collapsed": true,
    "hidden": true
   },
   "source": [
    "### Connect to the database"
   ]
  },
  {
   "cell_type": "markdown",
   "metadata": {
    "hidden": true
   },
   "source": [
    "**🔍 Using your preferred SQL client, connect to the database and browse through it as you wish to get acquainted with the data.**"
   ]
  },
  {
   "cell_type": "markdown",
   "metadata": {
    "heading_collapsed": true,
    "hidden": true
   },
   "source": [
    "### Draw a schema of the database"
   ]
  },
  {
   "cell_type": "markdown",
   "metadata": {
    "hidden": true
   },
   "source": [
    "**📝 Draw the database schema thanks to the [schema editor](https://kitt.lewagon.com/db) on Kitt.**"
   ]
  },
  {
   "cell_type": "markdown",
   "metadata": {
    "hidden": true
   },
   "source": [
    "**📝 Download the schema and save it as `boston_crimes.xml` in the `db` folder.**"
   ]
  },
  {
   "cell_type": "markdown",
   "metadata": {
    "heading_collapsed": true
   },
   "source": [
    "## 1.3 Extract the relevant dataset"
   ]
  },
  {
   "cell_type": "markdown",
   "metadata": {
    "hidden": true
   },
   "source": [
    "Now that you have a good overview of the database, you can kick off the work! You will start with an SQL query to gather the relevant information."
   ]
  },
  {
   "cell_type": "markdown",
   "metadata": {
    "heading_collapsed": true,
    "hidden": true
   },
   "source": [
    "### Build the dataset"
   ]
  },
  {
   "cell_type": "markdown",
   "metadata": {
    "hidden": true
   },
   "source": [
    "We want to investigate the influence of the socio-economic characteristics of Boston's different districts on the number of crime reports and incidents. To do so, we need to extract the relevant dataset. **Each row should correspond to one of the 12 police districts of Boston** (as listed in the `districts` table of the database).\n",
    "\n",
    "To identify the district, we will need **the following columns**: \n",
    "\n",
    "- the `CODE` of the police district (1 letter and 1 or 2 numbers);\n",
    "- the full `NAME` of the police district.\n",
    "\n",
    "Additionally, you will need to **create an additional field** (which will serve as dependent variable in future regressions): `NB_INCIDENTS`, i.e. the total number of incidents reported in the police district over the period covered by the data at hand (2015-2019).\n",
    "\n",
    "Eventually, we want the dataset to **include several socio-economic indicators**:\n",
    "\n",
    "- `MEDIAN_AGE`;\n",
    "- `TOTAL_POP`;\n",
    "- `PERC_OF_30_34`;\n",
    "- `PERC_MARRIED_COUPLE_FAMILY`;\n",
    "- `PER_CAPITA_INCOME`;\n",
    "- `PERC_OTHER_STATE_OR_ABROAD`;\n",
    "- `PERC_LESS_THAN_HIGH_SCHOOL`;\n",
    "- `PERC_COLLEGE_GRADUATES`. \n",
    "\n",
    "Overall, your dataset should comprise 12 rows and 11 columns.\n",
    "\n",
    "Eventually, note that **the resulting DataFrame must be ordered by the number of incidents**, from the largest to the smallest total."
   ]
  },
  {
   "cell_type": "markdown",
   "metadata": {
    "hidden": true
   },
   "source": [
    "**📝 Write the SQL query you need to fetch the data. Save it as a `str` in the `query` variable.**"
   ]
  },
  {
   "cell_type": "code",
   "execution_count": 8,
   "metadata": {
    "ExecuteTime": {
     "end_time": "2021-06-29T08:52:39.409694Z",
     "start_time": "2021-06-29T08:52:39.382237Z"
    },
    "hidden": true
   },
   "outputs": [],
   "source": [
    "query = \"\"\"\n",
    "SELECT d.CODE, d.NAME, COUNT(ir.INCIDENT_NUMBER) as NB_INCIDENTS, i.MEDIAN_AGE, TOTAL_POP, i.PERC_OF_30_34, i.PERC_MARRIED_COUPLE_FAMILY, i.PER_CAPITA_INCOME, i.PERC_OTHER_STATE_OR_ABROAD, i.PERC_LESS_THAN_HIGH_SCHOOL, i.PERC_COLLEGE_GRADUATES\n",
    "FROM districts d\n",
    "INNER JOIN indicators i ON d.CODE = i.CODE\n",
    "INNER JOIN incident_reports ir ON d.CODE = ir.DISTRICT\n",
    "GROUP BY d.CODE\n",
    "\"\"\""
   ]
  },
  {
   "cell_type": "markdown",
   "metadata": {
    "hidden": true
   },
   "source": [
    "**📝 Store the output of the query in a `DataFrame` named `crimes_df`. Display the 5 first rows, as well as the shape of the dataset.**"
   ]
  },
  {
   "cell_type": "code",
   "execution_count": 9,
   "metadata": {
    "ExecuteTime": {
     "end_time": "2021-06-29T08:54:13.628805Z",
     "start_time": "2021-06-29T08:54:11.630598Z"
    },
    "hidden": true,
    "tags": [
     "challengify"
    ]
   },
   "outputs": [],
   "source": [
    "conn = sqlite3.connect('db/boston_crimes.sqlite')\n",
    "crimes_df = pd.read_sql(query, conn)"
   ]
  },
  {
   "cell_type": "markdown",
   "metadata": {
    "heading_collapsed": true,
    "hidden": true
   },
   "source": [
    "### Save your results"
   ]
  },
  {
   "cell_type": "markdown",
   "metadata": {
    "hidden": true
   },
   "source": [
    "You can run the following cell to save your results:"
   ]
  },
  {
   "cell_type": "code",
   "execution_count": 12,
   "metadata": {
    "ExecuteTime": {
     "end_time": "2021-06-29T08:55:24.229416Z",
     "start_time": "2021-06-29T08:55:24.220825Z"
    },
    "hidden": true
   },
   "outputs": [],
   "source": [
    "ChallengeResult('sql', query=query, data=crimes_df).write()"
   ]
  },
  {
   "cell_type": "markdown",
   "metadata": {},
   "source": [
    "## 1.4 Linear regression - The socio-economic determinants of criminality\n",
    "\n",
    "As mentioned above, we want to investigate the impact of the socio-economic characteristics of the different Boston police districts on the number of incidents that are reported in these areas. \n",
    "- We are going to use the number of incidents as dependent variable \n",
    "- our regressors will be the various socio-economic indicators extracted from the database."
   ]
  },
  {
   "cell_type": "markdown",
   "metadata": {},
   "source": [
    "### 1.4.1 Start from a fresh dataset\n",
    "\n",
    "To make sure that you are using the right data, you can load a fresh dataset from this [URL](https://wagon-public-datasets.s3.amazonaws.com/certification_france_2021_q2/regression.csv).\n",
    "\n",
    "**📝 Load the data into a DataFrame named `data`**"
   ]
  },
  {
   "cell_type": "markdown",
   "metadata": {},
   "source": [
    "Downloading CSV in the data folder:"
   ]
  },
  {
   "cell_type": "code",
   "execution_count": 13,
   "metadata": {
    "ExecuteTime": {
     "end_time": "2021-06-29T09:03:28.530285Z",
     "start_time": "2021-06-29T09:03:28.201870Z"
    },
    "tags": [
     "challengify"
    ]
   },
   "outputs": [
    {
     "name": "stdout",
     "output_type": "stream",
     "text": [
      "  % Total    % Received % Xferd  Average Speed   Time    Time     Time  Current\n",
      "                                 Dload  Upload   Total   Spent    Left  Speed\n",
      "100   935  100   935    0     0   5701      0 --:--:-- --:--:-- --:--:--  5666\n"
     ]
    }
   ],
   "source": [
    "!curl https://wagon-public-datasets.s3.amazonaws.com/certification_france_2021_q2/boston_crimes_regression.csv > data/boston_crimes_regression.csv"
   ]
  },
  {
   "cell_type": "markdown",
   "metadata": {},
   "source": [
    "Reading it using Pandas:"
   ]
  },
  {
   "cell_type": "code",
   "execution_count": 15,
   "metadata": {
    "ExecuteTime": {
     "end_time": "2021-06-29T09:05:09.763085Z",
     "start_time": "2021-06-29T09:05:09.746401Z"
    }
   },
   "outputs": [],
   "source": [
    "data = pd.read_csv(\"data/boston_crimes_regression.csv\")"
   ]
  },
  {
   "cell_type": "code",
   "execution_count": 16,
   "metadata": {
    "ExecuteTime": {
     "end_time": "2021-06-29T09:05:38.107988Z",
     "start_time": "2021-06-29T09:05:38.082609Z"
    }
   },
   "outputs": [
    {
     "data": {
      "text/html": [
       "<div>\n",
       "<style scoped>\n",
       "    .dataframe tbody tr th:only-of-type {\n",
       "        vertical-align: middle;\n",
       "    }\n",
       "\n",
       "    .dataframe tbody tr th {\n",
       "        vertical-align: top;\n",
       "    }\n",
       "\n",
       "    .dataframe thead th {\n",
       "        text-align: right;\n",
       "    }\n",
       "</style>\n",
       "<table border=\"1\" class=\"dataframe\">\n",
       "  <thead>\n",
       "    <tr style=\"text-align: right;\">\n",
       "      <th></th>\n",
       "      <th>MEDIAN_AGE</th>\n",
       "      <th>TOTAL_POP</th>\n",
       "      <th>PERC_OF_30_34</th>\n",
       "      <th>PERC_MARRIED_COUPLE_FAMILY</th>\n",
       "      <th>PER_CAPITA_INCOME</th>\n",
       "      <th>PERC_OTHER_STATE_OR_ABROAD</th>\n",
       "      <th>PERC_LESS_THAN_HIGH_SCHOOL</th>\n",
       "      <th>PERC_COLLEGE_GRADUATES</th>\n",
       "      <th>CODE</th>\n",
       "      <th>NB_INCIDENTS</th>\n",
       "      <th>NAME</th>\n",
       "    </tr>\n",
       "  </thead>\n",
       "  <tbody>\n",
       "    <tr>\n",
       "      <th>0</th>\n",
       "      <td>30.8</td>\n",
       "      <td>55297</td>\n",
       "      <td>52.8</td>\n",
       "      <td>26.4</td>\n",
       "      <td>41261</td>\n",
       "      <td>8.6</td>\n",
       "      <td>6.7</td>\n",
       "      <td>10.5</td>\n",
       "      <td>D14</td>\n",
       "      <td>13788</td>\n",
       "      <td>Brighton</td>\n",
       "    </tr>\n",
       "    <tr>\n",
       "      <th>1</th>\n",
       "      <td>35.7</td>\n",
       "      <td>19890</td>\n",
       "      <td>28.2</td>\n",
       "      <td>36.4</td>\n",
       "      <td>75339</td>\n",
       "      <td>3.4</td>\n",
       "      <td>7.9</td>\n",
       "      <td>8.2</td>\n",
       "      <td>A15</td>\n",
       "      <td>4765</td>\n",
       "      <td>Charlestown</td>\n",
       "    </tr>\n",
       "    <tr>\n",
       "      <th>2</th>\n",
       "      <td>33.4</td>\n",
       "      <td>126909</td>\n",
       "      <td>28.2</td>\n",
       "      <td>26.6</td>\n",
       "      <td>29767</td>\n",
       "      <td>2.4</td>\n",
       "      <td>18.0</td>\n",
       "      <td>17.1</td>\n",
       "      <td>C11</td>\n",
       "      <td>32875</td>\n",
       "      <td>Dorchester</td>\n",
       "    </tr>\n",
       "    <tr>\n",
       "      <th>3</th>\n",
       "      <td>33.5</td>\n",
       "      <td>18306</td>\n",
       "      <td>32.5</td>\n",
       "      <td>35.8</td>\n",
       "      <td>80057</td>\n",
       "      <td>14.8</td>\n",
       "      <td>15.4</td>\n",
       "      <td>6.9</td>\n",
       "      <td>A1</td>\n",
       "      <td>26260</td>\n",
       "      <td>Downtown</td>\n",
       "    </tr>\n",
       "    <tr>\n",
       "      <th>4</th>\n",
       "      <td>30.6</td>\n",
       "      <td>47263</td>\n",
       "      <td>31.1</td>\n",
       "      <td>30.4</td>\n",
       "      <td>31473</td>\n",
       "      <td>3.5</td>\n",
       "      <td>27.2</td>\n",
       "      <td>11.5</td>\n",
       "      <td>A7</td>\n",
       "      <td>9691</td>\n",
       "      <td>East Boston</td>\n",
       "    </tr>\n",
       "    <tr>\n",
       "      <th>5</th>\n",
       "      <td>39.4</td>\n",
       "      <td>38924</td>\n",
       "      <td>21.1</td>\n",
       "      <td>38.4</td>\n",
       "      <td>32744</td>\n",
       "      <td>1.9</td>\n",
       "      <td>13.8</td>\n",
       "      <td>21.3</td>\n",
       "      <td>E18</td>\n",
       "      <td>12551</td>\n",
       "      <td>Hyde Park</td>\n",
       "    </tr>\n",
       "    <tr>\n",
       "      <th>6</th>\n",
       "      <td>34.8</td>\n",
       "      <td>40867</td>\n",
       "      <td>32.5</td>\n",
       "      <td>33.7</td>\n",
       "      <td>51655</td>\n",
       "      <td>5.5</td>\n",
       "      <td>8.0</td>\n",
       "      <td>12.1</td>\n",
       "      <td>E13</td>\n",
       "      <td>12802</td>\n",
       "      <td>Jamaica Plain</td>\n",
       "    </tr>\n",
       "    <tr>\n",
       "      <th>7</th>\n",
       "      <td>36.7</td>\n",
       "      <td>26659</td>\n",
       "      <td>20.9</td>\n",
       "      <td>29.8</td>\n",
       "      <td>28356</td>\n",
       "      <td>2.3</td>\n",
       "      <td>14.5</td>\n",
       "      <td>22.9</td>\n",
       "      <td>B3</td>\n",
       "      <td>28331</td>\n",
       "      <td>Mattapan</td>\n",
       "    </tr>\n",
       "    <tr>\n",
       "      <th>8</th>\n",
       "      <td>32.5</td>\n",
       "      <td>54161</td>\n",
       "      <td>27.8</td>\n",
       "      <td>17.8</td>\n",
       "      <td>20978</td>\n",
       "      <td>2.9</td>\n",
       "      <td>23.0</td>\n",
       "      <td>18.9</td>\n",
       "      <td>B2</td>\n",
       "      <td>38877</td>\n",
       "      <td>Roxbury</td>\n",
       "    </tr>\n",
       "    <tr>\n",
       "      <th>9</th>\n",
       "      <td>31.9</td>\n",
       "      <td>36772</td>\n",
       "      <td>46.1</td>\n",
       "      <td>24.7</td>\n",
       "      <td>64745</td>\n",
       "      <td>2.4</td>\n",
       "      <td>7.9</td>\n",
       "      <td>8.4</td>\n",
       "      <td>C6</td>\n",
       "      <td>16617</td>\n",
       "      <td>South Boston</td>\n",
       "    </tr>\n",
       "    <tr>\n",
       "      <th>10</th>\n",
       "      <td>37.1</td>\n",
       "      <td>32571</td>\n",
       "      <td>33.9</td>\n",
       "      <td>28.3</td>\n",
       "      <td>83609</td>\n",
       "      <td>6.2</td>\n",
       "      <td>11.8</td>\n",
       "      <td>8.5</td>\n",
       "      <td>D4</td>\n",
       "      <td>31258</td>\n",
       "      <td>South End</td>\n",
       "    </tr>\n",
       "    <tr>\n",
       "      <th>11</th>\n",
       "      <td>42.8</td>\n",
       "      <td>33526</td>\n",
       "      <td>18.1</td>\n",
       "      <td>46.2</td>\n",
       "      <td>47836</td>\n",
       "      <td>1.9</td>\n",
       "      <td>6.5</td>\n",
       "      <td>13.2</td>\n",
       "      <td>E5</td>\n",
       "      <td>9406</td>\n",
       "      <td>West Roxbury</td>\n",
       "    </tr>\n",
       "  </tbody>\n",
       "</table>\n",
       "</div>"
      ],
      "text/plain": [
       "    MEDIAN_AGE  TOTAL_POP  PERC_OF_30_34  PERC_MARRIED_COUPLE_FAMILY  \\\n",
       "0         30.8      55297           52.8                        26.4   \n",
       "1         35.7      19890           28.2                        36.4   \n",
       "2         33.4     126909           28.2                        26.6   \n",
       "3         33.5      18306           32.5                        35.8   \n",
       "4         30.6      47263           31.1                        30.4   \n",
       "5         39.4      38924           21.1                        38.4   \n",
       "6         34.8      40867           32.5                        33.7   \n",
       "7         36.7      26659           20.9                        29.8   \n",
       "8         32.5      54161           27.8                        17.8   \n",
       "9         31.9      36772           46.1                        24.7   \n",
       "10        37.1      32571           33.9                        28.3   \n",
       "11        42.8      33526           18.1                        46.2   \n",
       "\n",
       "    PER_CAPITA_INCOME  PERC_OTHER_STATE_OR_ABROAD  PERC_LESS_THAN_HIGH_SCHOOL  \\\n",
       "0               41261                         8.6                         6.7   \n",
       "1               75339                         3.4                         7.9   \n",
       "2               29767                         2.4                        18.0   \n",
       "3               80057                        14.8                        15.4   \n",
       "4               31473                         3.5                        27.2   \n",
       "5               32744                         1.9                        13.8   \n",
       "6               51655                         5.5                         8.0   \n",
       "7               28356                         2.3                        14.5   \n",
       "8               20978                         2.9                        23.0   \n",
       "9               64745                         2.4                         7.9   \n",
       "10              83609                         6.2                        11.8   \n",
       "11              47836                         1.9                         6.5   \n",
       "\n",
       "    PERC_COLLEGE_GRADUATES CODE  NB_INCIDENTS           NAME  \n",
       "0                     10.5  D14         13788       Brighton  \n",
       "1                      8.2  A15          4765    Charlestown  \n",
       "2                     17.1  C11         32875     Dorchester  \n",
       "3                      6.9   A1         26260       Downtown  \n",
       "4                     11.5   A7          9691    East Boston  \n",
       "5                     21.3  E18         12551      Hyde Park  \n",
       "6                     12.1  E13         12802  Jamaica Plain  \n",
       "7                     22.9   B3         28331       Mattapan  \n",
       "8                     18.9   B2         38877        Roxbury  \n",
       "9                      8.4   C6         16617   South Boston  \n",
       "10                     8.5   D4         31258      South End  \n",
       "11                    13.2   E5          9406   West Roxbury  "
      ]
     },
     "execution_count": 16,
     "metadata": {},
     "output_type": "execute_result"
    }
   ],
   "source": [
    "data"
   ]
  },
  {
   "cell_type": "code",
   "execution_count": 18,
   "metadata": {
    "ExecuteTime": {
     "end_time": "2021-06-29T09:06:16.788153Z",
     "start_time": "2021-06-29T09:06:16.751808Z"
    }
   },
   "outputs": [
    {
     "data": {
      "text/html": [
       "<div>\n",
       "<style scoped>\n",
       "    .dataframe tbody tr th:only-of-type {\n",
       "        vertical-align: middle;\n",
       "    }\n",
       "\n",
       "    .dataframe tbody tr th {\n",
       "        vertical-align: top;\n",
       "    }\n",
       "\n",
       "    .dataframe thead th {\n",
       "        text-align: right;\n",
       "    }\n",
       "</style>\n",
       "<table border=\"1\" class=\"dataframe\">\n",
       "  <thead>\n",
       "    <tr style=\"text-align: right;\">\n",
       "      <th></th>\n",
       "      <th>MEDIAN_AGE</th>\n",
       "      <th>TOTAL_POP</th>\n",
       "      <th>PERC_OF_30_34</th>\n",
       "      <th>PERC_MARRIED_COUPLE_FAMILY</th>\n",
       "      <th>PER_CAPITA_INCOME</th>\n",
       "      <th>PERC_OTHER_STATE_OR_ABROAD</th>\n",
       "      <th>PERC_LESS_THAN_HIGH_SCHOOL</th>\n",
       "      <th>PERC_COLLEGE_GRADUATES</th>\n",
       "      <th>CODE</th>\n",
       "      <th>NB_INCIDENTS</th>\n",
       "      <th>NAME</th>\n",
       "    </tr>\n",
       "  </thead>\n",
       "  <tbody>\n",
       "    <tr>\n",
       "      <th>0</th>\n",
       "      <td>30.8</td>\n",
       "      <td>55297</td>\n",
       "      <td>52.8</td>\n",
       "      <td>26.4</td>\n",
       "      <td>41261</td>\n",
       "      <td>8.6</td>\n",
       "      <td>6.7</td>\n",
       "      <td>10.5</td>\n",
       "      <td>D14</td>\n",
       "      <td>13788</td>\n",
       "      <td>Brighton</td>\n",
       "    </tr>\n",
       "    <tr>\n",
       "      <th>1</th>\n",
       "      <td>35.7</td>\n",
       "      <td>19890</td>\n",
       "      <td>28.2</td>\n",
       "      <td>36.4</td>\n",
       "      <td>75339</td>\n",
       "      <td>3.4</td>\n",
       "      <td>7.9</td>\n",
       "      <td>8.2</td>\n",
       "      <td>A15</td>\n",
       "      <td>4765</td>\n",
       "      <td>Charlestown</td>\n",
       "    </tr>\n",
       "    <tr>\n",
       "      <th>2</th>\n",
       "      <td>33.4</td>\n",
       "      <td>126909</td>\n",
       "      <td>28.2</td>\n",
       "      <td>26.6</td>\n",
       "      <td>29767</td>\n",
       "      <td>2.4</td>\n",
       "      <td>18.0</td>\n",
       "      <td>17.1</td>\n",
       "      <td>C11</td>\n",
       "      <td>32875</td>\n",
       "      <td>Dorchester</td>\n",
       "    </tr>\n",
       "    <tr>\n",
       "      <th>3</th>\n",
       "      <td>33.5</td>\n",
       "      <td>18306</td>\n",
       "      <td>32.5</td>\n",
       "      <td>35.8</td>\n",
       "      <td>80057</td>\n",
       "      <td>14.8</td>\n",
       "      <td>15.4</td>\n",
       "      <td>6.9</td>\n",
       "      <td>A1</td>\n",
       "      <td>26260</td>\n",
       "      <td>Downtown</td>\n",
       "    </tr>\n",
       "    <tr>\n",
       "      <th>4</th>\n",
       "      <td>30.6</td>\n",
       "      <td>47263</td>\n",
       "      <td>31.1</td>\n",
       "      <td>30.4</td>\n",
       "      <td>31473</td>\n",
       "      <td>3.5</td>\n",
       "      <td>27.2</td>\n",
       "      <td>11.5</td>\n",
       "      <td>A7</td>\n",
       "      <td>9691</td>\n",
       "      <td>East Boston</td>\n",
       "    </tr>\n",
       "    <tr>\n",
       "      <th>5</th>\n",
       "      <td>39.4</td>\n",
       "      <td>38924</td>\n",
       "      <td>21.1</td>\n",
       "      <td>38.4</td>\n",
       "      <td>32744</td>\n",
       "      <td>1.9</td>\n",
       "      <td>13.8</td>\n",
       "      <td>21.3</td>\n",
       "      <td>E18</td>\n",
       "      <td>12551</td>\n",
       "      <td>Hyde Park</td>\n",
       "    </tr>\n",
       "    <tr>\n",
       "      <th>6</th>\n",
       "      <td>34.8</td>\n",
       "      <td>40867</td>\n",
       "      <td>32.5</td>\n",
       "      <td>33.7</td>\n",
       "      <td>51655</td>\n",
       "      <td>5.5</td>\n",
       "      <td>8.0</td>\n",
       "      <td>12.1</td>\n",
       "      <td>E13</td>\n",
       "      <td>12802</td>\n",
       "      <td>Jamaica Plain</td>\n",
       "    </tr>\n",
       "    <tr>\n",
       "      <th>7</th>\n",
       "      <td>36.7</td>\n",
       "      <td>26659</td>\n",
       "      <td>20.9</td>\n",
       "      <td>29.8</td>\n",
       "      <td>28356</td>\n",
       "      <td>2.3</td>\n",
       "      <td>14.5</td>\n",
       "      <td>22.9</td>\n",
       "      <td>B3</td>\n",
       "      <td>28331</td>\n",
       "      <td>Mattapan</td>\n",
       "    </tr>\n",
       "    <tr>\n",
       "      <th>8</th>\n",
       "      <td>32.5</td>\n",
       "      <td>54161</td>\n",
       "      <td>27.8</td>\n",
       "      <td>17.8</td>\n",
       "      <td>20978</td>\n",
       "      <td>2.9</td>\n",
       "      <td>23.0</td>\n",
       "      <td>18.9</td>\n",
       "      <td>B2</td>\n",
       "      <td>38877</td>\n",
       "      <td>Roxbury</td>\n",
       "    </tr>\n",
       "    <tr>\n",
       "      <th>9</th>\n",
       "      <td>31.9</td>\n",
       "      <td>36772</td>\n",
       "      <td>46.1</td>\n",
       "      <td>24.7</td>\n",
       "      <td>64745</td>\n",
       "      <td>2.4</td>\n",
       "      <td>7.9</td>\n",
       "      <td>8.4</td>\n",
       "      <td>C6</td>\n",
       "      <td>16617</td>\n",
       "      <td>South Boston</td>\n",
       "    </tr>\n",
       "    <tr>\n",
       "      <th>10</th>\n",
       "      <td>37.1</td>\n",
       "      <td>32571</td>\n",
       "      <td>33.9</td>\n",
       "      <td>28.3</td>\n",
       "      <td>83609</td>\n",
       "      <td>6.2</td>\n",
       "      <td>11.8</td>\n",
       "      <td>8.5</td>\n",
       "      <td>D4</td>\n",
       "      <td>31258</td>\n",
       "      <td>South End</td>\n",
       "    </tr>\n",
       "    <tr>\n",
       "      <th>11</th>\n",
       "      <td>42.8</td>\n",
       "      <td>33526</td>\n",
       "      <td>18.1</td>\n",
       "      <td>46.2</td>\n",
       "      <td>47836</td>\n",
       "      <td>1.9</td>\n",
       "      <td>6.5</td>\n",
       "      <td>13.2</td>\n",
       "      <td>E5</td>\n",
       "      <td>9406</td>\n",
       "      <td>West Roxbury</td>\n",
       "    </tr>\n",
       "  </tbody>\n",
       "</table>\n",
       "</div>"
      ],
      "text/plain": [
       "    MEDIAN_AGE  TOTAL_POP  PERC_OF_30_34  PERC_MARRIED_COUPLE_FAMILY  \\\n",
       "0         30.8      55297           52.8                        26.4   \n",
       "1         35.7      19890           28.2                        36.4   \n",
       "2         33.4     126909           28.2                        26.6   \n",
       "3         33.5      18306           32.5                        35.8   \n",
       "4         30.6      47263           31.1                        30.4   \n",
       "5         39.4      38924           21.1                        38.4   \n",
       "6         34.8      40867           32.5                        33.7   \n",
       "7         36.7      26659           20.9                        29.8   \n",
       "8         32.5      54161           27.8                        17.8   \n",
       "9         31.9      36772           46.1                        24.7   \n",
       "10        37.1      32571           33.9                        28.3   \n",
       "11        42.8      33526           18.1                        46.2   \n",
       "\n",
       "    PER_CAPITA_INCOME  PERC_OTHER_STATE_OR_ABROAD  PERC_LESS_THAN_HIGH_SCHOOL  \\\n",
       "0               41261                         8.6                         6.7   \n",
       "1               75339                         3.4                         7.9   \n",
       "2               29767                         2.4                        18.0   \n",
       "3               80057                        14.8                        15.4   \n",
       "4               31473                         3.5                        27.2   \n",
       "5               32744                         1.9                        13.8   \n",
       "6               51655                         5.5                         8.0   \n",
       "7               28356                         2.3                        14.5   \n",
       "8               20978                         2.9                        23.0   \n",
       "9               64745                         2.4                         7.9   \n",
       "10              83609                         6.2                        11.8   \n",
       "11              47836                         1.9                         6.5   \n",
       "\n",
       "    PERC_COLLEGE_GRADUATES CODE  NB_INCIDENTS           NAME  \n",
       "0                     10.5  D14         13788       Brighton  \n",
       "1                      8.2  A15          4765    Charlestown  \n",
       "2                     17.1  C11         32875     Dorchester  \n",
       "3                      6.9   A1         26260       Downtown  \n",
       "4                     11.5   A7          9691    East Boston  \n",
       "5                     21.3  E18         12551      Hyde Park  \n",
       "6                     12.1  E13         12802  Jamaica Plain  \n",
       "7                     22.9   B3         28331       Mattapan  \n",
       "8                     18.9   B2         38877        Roxbury  \n",
       "9                      8.4   C6         16617   South Boston  \n",
       "10                     8.5   D4         31258      South End  \n",
       "11                    13.2   E5          9406   West Roxbury  "
      ]
     },
     "execution_count": 18,
     "metadata": {},
     "output_type": "execute_result"
    }
   ],
   "source": [
    "data"
   ]
  },
  {
   "cell_type": "markdown",
   "metadata": {},
   "source": [
    "### 1.4.2 Run the regression and output its summary"
   ]
  },
  {
   "cell_type": "markdown",
   "metadata": {},
   "source": [
    "Thanks to the Statsmodels Formula API, we will run the regression described below. \n",
    "\n",
    "The dependent variable (or target variable) should be **the total number of incidents** reported in each police district.\n",
    "\n",
    "We will focus on the following regressors: \n",
    "\n",
    "- the **median age** in the district, whose effect is difficult to anticipate on the number of crimes;\n",
    " \n",
    " \n",
    "- the **percentage of 30-34 years old** in the district, whose effect is also unclear a priori;\n",
    " \n",
    " \n",
    "- the **share of families with a married couple** among all households, which could be anticipated to have a negative effect on criminality (more attention to safety among residents...);\n",
    " \n",
    " \n",
    "- the **percentage of residents having moved from abroad or from another US state over the last year**, mobility being often associated with social marginalisation and possibly with a higher risk of resorting to illegal activities;\n",
    " \n",
    " \n",
    "- the **percentage of residents having stopped their studies before getting a high school degree**. Economic models would suggest that due to the more narrow job opportunities to which this group has access, the incentive is stronger to resort to illicit activities;\n",
    " \n",
    " \n",
    "- the **percentage of college graduates** in the district, which we would expect to have an opposite effect.\n",
    " \n",
    "**📝 Based on these indications, estimate the linear regression model and output its summary in this section of the notebook. Store the estimated model inside a `model` variable.**"
   ]
  },
  {
   "cell_type": "code",
   "execution_count": 19,
   "metadata": {
    "ExecuteTime": {
     "end_time": "2021-06-29T09:12:38.037229Z",
     "start_time": "2021-06-29T09:12:37.932785Z"
    },
    "tags": [
     "challengify"
    ]
   },
   "outputs": [
    {
     "name": "stderr",
     "output_type": "stream",
     "text": [
      "/Users/valentinlaurent/.pyenv/versions/3.8.6/envs/lewagon/lib/python3.8/site-packages/scipy/stats/stats.py:1603: UserWarning: kurtosistest only valid for n>=20 ... continuing anyway, n=12\n",
      "  warnings.warn(\"kurtosistest only valid for n>=20 ... continuing \"\n"
     ]
    },
    {
     "data": {
      "text/html": [
       "<table class=\"simpletable\">\n",
       "<caption>OLS Regression Results</caption>\n",
       "<tr>\n",
       "  <th>Dep. Variable:</th>      <td>NB_INCIDENTS</td>   <th>  R-squared:         </th> <td>   0.899</td>\n",
       "</tr>\n",
       "<tr>\n",
       "  <th>Model:</th>                   <td>OLS</td>       <th>  Adj. R-squared:    </th> <td>   0.777</td>\n",
       "</tr>\n",
       "<tr>\n",
       "  <th>Method:</th>             <td>Least Squares</td>  <th>  F-statistic:       </th> <td>   7.391</td>\n",
       "</tr>\n",
       "<tr>\n",
       "  <th>Date:</th>             <td>Tue, 29 Jun 2021</td> <th>  Prob (F-statistic):</th>  <td>0.0222</td> \n",
       "</tr>\n",
       "<tr>\n",
       "  <th>Time:</th>                 <td>11:12:38</td>     <th>  Log-Likelihood:    </th> <td> -114.59</td>\n",
       "</tr>\n",
       "<tr>\n",
       "  <th>No. Observations:</th>      <td>    12</td>      <th>  AIC:               </th> <td>   243.2</td>\n",
       "</tr>\n",
       "<tr>\n",
       "  <th>Df Residuals:</th>          <td>     5</td>      <th>  BIC:               </th> <td>   246.6</td>\n",
       "</tr>\n",
       "<tr>\n",
       "  <th>Df Model:</th>              <td>     6</td>      <th>                     </th>     <td> </td>   \n",
       "</tr>\n",
       "<tr>\n",
       "  <th>Covariance Type:</th>      <td>nonrobust</td>    <th>                     </th>     <td> </td>   \n",
       "</tr>\n",
       "</table>\n",
       "<table class=\"simpletable\">\n",
       "<tr>\n",
       "               <td></td>                 <th>coef</th>     <th>std err</th>      <th>t</th>      <th>P>|t|</th>  <th>[0.025</th>    <th>0.975]</th>  \n",
       "</tr>\n",
       "<tr>\n",
       "  <th>Intercept</th>                  <td> 1.358e+04</td> <td> 6.16e+04</td> <td>    0.220</td> <td> 0.834</td> <td>-1.45e+05</td> <td> 1.72e+05</td>\n",
       "</tr>\n",
       "<tr>\n",
       "  <th>MEDIAN_AGE</th>                 <td> 2252.7344</td> <td> 1237.522</td> <td>    1.820</td> <td> 0.128</td> <td> -928.416</td> <td> 5433.885</td>\n",
       "</tr>\n",
       "<tr>\n",
       "  <th>PERC_OF_30_34</th>              <td> -532.9973</td> <td>  468.940</td> <td>   -1.137</td> <td> 0.307</td> <td>-1738.447</td> <td>  672.452</td>\n",
       "</tr>\n",
       "<tr>\n",
       "  <th>PERC_MARRIED_COUPLE_FAMILY</th> <td>-2115.1839</td> <td>  408.344</td> <td>   -5.180</td> <td> 0.004</td> <td>-3164.866</td> <td>-1065.502</td>\n",
       "</tr>\n",
       "<tr>\n",
       "  <th>PERC_OTHER_STATE_OR_ABROAD</th> <td> 1787.6939</td> <td>  532.432</td> <td>    3.358</td> <td> 0.020</td> <td>  419.034</td> <td> 3156.354</td>\n",
       "</tr>\n",
       "<tr>\n",
       "  <th>PERC_LESS_THAN_HIGH_SCHOOL</th> <td>  112.7375</td> <td>  493.977</td> <td>    0.228</td> <td> 0.829</td> <td>-1157.072</td> <td> 1382.547</td>\n",
       "</tr>\n",
       "<tr>\n",
       "  <th>PERC_COLLEGE_GRADUATES</th>     <td>   19.4699</td> <td>  458.775</td> <td>    0.042</td> <td> 0.968</td> <td>-1159.850</td> <td> 1198.790</td>\n",
       "</tr>\n",
       "</table>\n",
       "<table class=\"simpletable\">\n",
       "<tr>\n",
       "  <th>Omnibus:</th>       <td> 6.933</td> <th>  Durbin-Watson:     </th> <td>   2.255</td>\n",
       "</tr>\n",
       "<tr>\n",
       "  <th>Prob(Omnibus):</th> <td> 0.031</td> <th>  Jarque-Bera (JB):  </th> <td>   3.155</td>\n",
       "</tr>\n",
       "<tr>\n",
       "  <th>Skew:</th>          <td> 1.148</td> <th>  Prob(JB):          </th> <td>   0.206</td>\n",
       "</tr>\n",
       "<tr>\n",
       "  <th>Kurtosis:</th>      <td> 4.020</td> <th>  Cond. No.          </th> <td>2.42e+03</td>\n",
       "</tr>\n",
       "</table><br/><br/>Warnings:<br/>[1] Standard Errors assume that the covariance matrix of the errors is correctly specified.<br/>[2] The condition number is large, 2.42e+03. This might indicate that there are<br/>strong multicollinearity or other numerical problems."
      ],
      "text/plain": [
       "<class 'statsmodels.iolib.summary.Summary'>\n",
       "\"\"\"\n",
       "                            OLS Regression Results                            \n",
       "==============================================================================\n",
       "Dep. Variable:           NB_INCIDENTS   R-squared:                       0.899\n",
       "Model:                            OLS   Adj. R-squared:                  0.777\n",
       "Method:                 Least Squares   F-statistic:                     7.391\n",
       "Date:                Tue, 29 Jun 2021   Prob (F-statistic):             0.0222\n",
       "Time:                        11:12:38   Log-Likelihood:                -114.59\n",
       "No. Observations:                  12   AIC:                             243.2\n",
       "Df Residuals:                       5   BIC:                             246.6\n",
       "Df Model:                           6                                         \n",
       "Covariance Type:            nonrobust                                         \n",
       "==============================================================================================\n",
       "                                 coef    std err          t      P>|t|      [0.025      0.975]\n",
       "----------------------------------------------------------------------------------------------\n",
       "Intercept                   1.358e+04   6.16e+04      0.220      0.834   -1.45e+05    1.72e+05\n",
       "MEDIAN_AGE                  2252.7344   1237.522      1.820      0.128    -928.416    5433.885\n",
       "PERC_OF_30_34               -532.9973    468.940     -1.137      0.307   -1738.447     672.452\n",
       "PERC_MARRIED_COUPLE_FAMILY -2115.1839    408.344     -5.180      0.004   -3164.866   -1065.502\n",
       "PERC_OTHER_STATE_OR_ABROAD  1787.6939    532.432      3.358      0.020     419.034    3156.354\n",
       "PERC_LESS_THAN_HIGH_SCHOOL   112.7375    493.977      0.228      0.829   -1157.072    1382.547\n",
       "PERC_COLLEGE_GRADUATES        19.4699    458.775      0.042      0.968   -1159.850    1198.790\n",
       "==============================================================================\n",
       "Omnibus:                        6.933   Durbin-Watson:                   2.255\n",
       "Prob(Omnibus):                  0.031   Jarque-Bera (JB):                3.155\n",
       "Skew:                           1.148   Prob(JB):                        0.206\n",
       "Kurtosis:                       4.020   Cond. No.                     2.42e+03\n",
       "==============================================================================\n",
       "\n",
       "Warnings:\n",
       "[1] Standard Errors assume that the covariance matrix of the errors is correctly specified.\n",
       "[2] The condition number is large, 2.42e+03. This might indicate that there are\n",
       "strong multicollinearity or other numerical problems.\n",
       "\"\"\""
      ]
     },
     "execution_count": 19,
     "metadata": {},
     "output_type": "execute_result"
    }
   ],
   "source": [
    "formula = 'NB_INCIDENTS ~ MEDIAN_AGE + PERC_OF_30_34 + PERC_MARRIED_COUPLE_FAMILY + PERC_OTHER_STATE_OR_ABROAD + PERC_LESS_THAN_HIGH_SCHOOL + PERC_COLLEGE_GRADUATES'\n",
    "model = smf.ols(formula=formula, data=data).fit()\n",
    "model.summary()"
   ]
  },
  {
   "cell_type": "markdown",
   "metadata": {
    "heading_collapsed": true
   },
   "source": [
    "### Save your results\n",
    "\n",
    "You can run the following cell to save your results:"
   ]
  },
  {
   "cell_type": "code",
   "execution_count": 20,
   "metadata": {
    "ExecuteTime": {
     "end_time": "2021-06-29T09:14:35.469494Z",
     "start_time": "2021-06-29T09:14:35.461845Z"
    },
    "hidden": true
   },
   "outputs": [],
   "source": [
    "ChallengeResult(\n",
    "    'linear_regression_model',\n",
    "    data=data,\n",
    "    model=model\n",
    ").write()"
   ]
  },
  {
   "cell_type": "markdown",
   "metadata": {
    "heading_collapsed": true
   },
   "source": [
    "### 1.4.3 Statistical inference questions 🤯"
   ]
  },
  {
   "cell_type": "markdown",
   "metadata": {
    "hidden": true
   },
   "source": [
    "You will now be asked a series of statistical inference and methodological questions about the regression model estimated above. Don't worry if results do not perfectly fit the \"predictions\" that we made earlier about the impact of each regressor: the goal was to form an *a priori* hypothesis, which is validated or invalidated through this empirical analysis."
   ]
  },
  {
   "cell_type": "markdown",
   "metadata": {
    "heading_collapsed": true,
    "hidden": true
   },
   "source": [
    "#### Questions on the results"
   ]
  },
  {
   "cell_type": "markdown",
   "metadata": {
    "hidden": true
   },
   "source": [
    "**❓ Is the median age associated with a positive (increasing the number of crimes) or a negative (decreasing the target variable) effect on the number of crime incidents? Simply write your answer as a string below**"
   ]
  },
  {
   "cell_type": "code",
   "execution_count": 21,
   "metadata": {
    "ExecuteTime": {
     "end_time": "2021-06-29T09:16:49.180740Z",
     "start_time": "2021-06-29T09:16:49.176571Z"
    },
    "hidden": true
   },
   "outputs": [],
   "source": [
    "answer_median_age = '''\n",
    "The coefficient is positive (2252),\n",
    "so the median age is associated with a positive effect on the number of crime incidents.\n",
    "'''"
   ]
  },
  {
   "cell_type": "markdown",
   "metadata": {
    "hidden": true
   },
   "source": [
    "**❓ What is the t-statistic associated with the median age regressor? How is it computed?**\n",
    "\n",
    "💡 Hint: We are looking at a ratio"
   ]
  },
  {
   "cell_type": "code",
   "execution_count": 22,
   "metadata": {
    "ExecuteTime": {
     "end_time": "2021-06-29T09:23:50.546739Z",
     "start_time": "2021-06-29T09:23:50.540406Z"
    },
    "hidden": true
   },
   "outputs": [],
   "source": [
    "answer_t_statistic = '''\n",
    "The t-statistic associated with the median age is 1.820\n",
    "It is computed doing the ratio between the coefficient and the standard deviation.\n",
    "'''"
   ]
  },
  {
   "cell_type": "markdown",
   "metadata": {
    "hidden": true
   },
   "source": [
    "**📝 Recompute approximately the t-statistic based on the regression summary.**\n",
    "\n",
    "As it is a ratio $t = \\frac{numerator}{denominator}$:\n",
    "- Store the numerator into a `numerator` variable\n",
    "- Store the denominator into a `denominator` variable\n",
    "- Store the t-statistic into a `t_median_age` variable"
   ]
  },
  {
   "cell_type": "code",
   "execution_count": 23,
   "metadata": {
    "ExecuteTime": {
     "end_time": "2021-06-29T09:24:43.338069Z",
     "start_time": "2021-06-29T09:24:43.322892Z"
    },
    "hidden": true,
    "tags": [
     "challengify"
    ]
   },
   "outputs": [
    {
     "data": {
      "text/plain": [
       "1.8203590724043692"
      ]
     },
     "execution_count": 23,
     "metadata": {},
     "output_type": "execute_result"
    }
   ],
   "source": [
    "numerator = 2252.7344\n",
    "denominator = 1237.522\n",
    "t_median_age = numerator/denominator\n",
    "t_median_age"
   ]
  },
  {
   "cell_type": "markdown",
   "metadata": {
    "hidden": true
   },
   "source": [
    "**❓ What is the p-value associated with the median age regressor? Store it in the `pvalue_median_age` variable (you may directly copy-paste it from the regression summary).** "
   ]
  },
  {
   "cell_type": "code",
   "execution_count": 24,
   "metadata": {
    "ExecuteTime": {
     "end_time": "2021-06-29T09:25:25.153229Z",
     "start_time": "2021-06-29T09:25:25.148151Z"
    },
    "hidden": true,
    "tags": [
     "challengify"
    ]
   },
   "outputs": [],
   "source": [
    "pvalue_median_age = 0.128"
   ]
  },
  {
   "cell_type": "markdown",
   "metadata": {
    "hidden": true
   },
   "source": [
    "**❓ What does this p-value mean for the median age? Is its effect statistically significant at the 95% confidence level? At the 90% confidence level? Simply formulate your answer in the cell below.**"
   ]
  },
  {
   "cell_type": "code",
   "execution_count": 25,
   "metadata": {
    "ExecuteTime": {
     "end_time": "2021-06-29T09:28:26.098887Z",
     "start_time": "2021-06-29T09:28:26.088122Z"
    },
    "hidden": true
   },
   "outputs": [],
   "source": [
    "answer_p_value = \"\"\"\n",
    "With a 95% confidence level, we should have p < 0.05, which is not the case here.\n",
    "With a 90% confidence level, we should have p < 0.10, which is not the case either.\n",
    "Actually, a p value of 0.128 is very high, meaning that the median age seems a priori not to be correlated to the number of crimes.\n",
    "\"\"\""
   ]
  },
  {
   "cell_type": "markdown",
   "metadata": {
    "hidden": true
   },
   "source": [
    "**❓ What are the two regressors whose effect is statistically significant at the 95% confidence level in this regression model? Store the name of the variables as a list of strings in the `significant_regressors` variable.**"
   ]
  },
  {
   "cell_type": "code",
   "execution_count": 26,
   "metadata": {
    "ExecuteTime": {
     "end_time": "2021-06-29T09:30:17.684576Z",
     "start_time": "2021-06-29T09:30:17.681038Z"
    },
    "hidden": true,
    "tags": [
     "challengify"
    ]
   },
   "outputs": [],
   "source": [
    "significant_regressors = [\"PERC_MARRIED_COUPLE_FAMILY\", \"PERC_OTHER_STATE_OR_ABROAD\"]"
   ]
  },
  {
   "cell_type": "markdown",
   "metadata": {
    "hidden": true
   },
   "source": [
    "**❓ Holding all other regressors constant, by how much does the total number of incidents increase or decrease when the share of families with a married couple increases by 1 percentage point in the district? Please formulate a full sentence with statistical rigor!**"
   ]
  },
  {
   "cell_type": "code",
   "execution_count": 27,
   "metadata": {
    "ExecuteTime": {
     "end_time": "2021-06-29T09:33:00.370391Z",
     "start_time": "2021-06-29T09:33:00.367106Z"
    },
    "hidden": true
   },
   "outputs": [],
   "source": [
    "answer_how_much_increase = \"\"\"\n",
    "Holding all other regressors constant,\n",
    "the total number of incidents decrease by about 2000 (2115.1839)\n",
    "when the share of families with a married couple\n",
    "increases by 1 percentage point in the district.\n",
    "\"\"\""
   ]
  },
  {
   "cell_type": "markdown",
   "metadata": {
    "heading_collapsed": true,
    "hidden": true
   },
   "source": [
    "#### Limits of this regression model"
   ]
  },
  {
   "cell_type": "markdown",
   "metadata": {
    "hidden": true
   },
   "source": [
    "You had asked the intern on the team to estimate a linear regression model so as to investigate the socio-economic determinants of crime in Boston. The results above are those that he presented. In the email he sent to you, he added:\n",
    "\n",
    "> *You will probably notice the extremely high R-squared score of this model: I think we have an excellent fit and the results are solid* 😄\n",
    "\n",
    "But you have very strong doubts about this regression and you think it is a perfect occasion to give some very important advice to your intern..."
   ]
  },
  {
   "cell_type": "markdown",
   "metadata": {
    "hidden": true
   },
   "source": [
    "**❓  What is the main limitation of this (clearly spurious) regression according to you? This observation explains why we are getting a very high R-squared and large standard errors. Please provide your answer in the following Markdown cell.**"
   ]
  },
  {
   "cell_type": "code",
   "execution_count": 28,
   "metadata": {
    "ExecuteTime": {
     "end_time": "2021-06-29T09:45:24.652212Z",
     "start_time": "2021-06-29T09:45:24.641736Z"
    },
    "hidden": true
   },
   "outputs": [],
   "source": [
    "answer_limitations = \"\"\"\n",
    "To use a multi-linear regression in the first place,\n",
    "we have to make sure features are not correlated.\n",
    "In that case, some features are clearly correlated:\n",
    "For example: MEDIAN_AGE and PERC_OF_30_34\n",
    "Another one: PERC_LESS_THAN_HIGH_SCHOOL and PERC_COLLEGE_GRADUATES\n",
    "\"\"\""
   ]
  },
  {
   "cell_type": "markdown",
   "metadata": {
    "heading_collapsed": true
   },
   "source": [
    "### Save your results\n",
    "\n",
    "You can run the following cell to save your results:"
   ]
  },
  {
   "cell_type": "code",
   "execution_count": 29,
   "metadata": {
    "ExecuteTime": {
     "end_time": "2021-06-29T09:45:39.977314Z",
     "start_time": "2021-06-29T09:45:39.961810Z"
    },
    "hidden": true
   },
   "outputs": [],
   "source": [
    "import json\n",
    "answers_inference = {\"MEDIAN_AGE\": answer_median_age,\n",
    "                    \"T_STAT\":answer_t_statistic,\n",
    "                     \"P_VALUE\": answer_p_value,\n",
    "                     \"INCREASE\": answer_how_much_increase,\n",
    "                     \"LIMITATIONS\": answer_limitations}\n",
    "\n",
    "with open(\"tests/answers_inference.json\", \"w\", encoding=\"utf-8\") as f:\n",
    "    json.dump(answers_inference, f, ensure_ascii=False, indent=4)\n",
    "\n",
    "ChallengeResult(\n",
    "    'linear_regression_analysis',\n",
    "    model=model,\n",
    "    numerator=numerator,\n",
    "    denominator=denominator,\n",
    "    t=t_median_age,\n",
    "    pvalue=pvalue_median_age,\n",
    "    regressors=significant_regressors\n",
    ").write()"
   ]
  },
  {
   "cell_type": "markdown",
   "metadata": {},
   "source": [
    "# 2. Analysis for the police department"
   ]
  },
  {
   "cell_type": "markdown",
   "metadata": {},
   "source": [
    "The head of the Police Department of Boston, who read your report for the Mayor's team, was extremely interested in the results. He contacted your consulting firm for an additional presentation, that would focus on the nature of crimes that take place in Boston, the potential time trends that you could identify and/or the heterogeneity of the impact of criminality on the different police districts. "
   ]
  },
  {
   "cell_type": "markdown",
   "metadata": {},
   "source": [
    "## 2.1 Start with a fresh dataset"
   ]
  },
  {
   "cell_type": "markdown",
   "metadata": {},
   "source": [
    "You will start from a fresh dataset, that corresponds more or less to the `incident_reports` table of the database."
   ]
  },
  {
   "cell_type": "code",
   "execution_count": 30,
   "metadata": {
    "ExecuteTime": {
     "end_time": "2021-06-29T09:47:45.666847Z",
     "start_time": "2021-06-29T09:47:43.613356Z"
    }
   },
   "outputs": [
    {
     "name": "stdout",
     "output_type": "stream",
     "text": [
      "  % Total    % Received % Xferd  Average Speed   Time    Time     Time  Current\n",
      "                                 Dload  Upload   Total   Spent    Left  Speed\n",
      "100 19.1M  100 19.1M    0     0  11.9M      0  0:00:01  0:00:01 --:--:-- 11.9M\n",
      "  % Total    % Received % Xferd  Average Speed   Time    Time     Time  Current\n",
      "                                 Dload  Upload   Total   Spent    Left  Speed\n",
      "100   498  100   498    0     0   3192      0 --:--:-- --:--:-- --:--:--  3192\n"
     ]
    }
   ],
   "source": [
    "# Run this cell to download the datasets in the data directory\n",
    "!curl https://wagon-public-datasets.s3.amazonaws.com/certification_france_2021_q2/incident_reports.csv > data/incident_reports.csv   \n",
    "!curl https://wagon-public-datasets.s3.amazonaws.com/certification_france_2021_q2/districts.csv > data/districts.csv    "
   ]
  },
  {
   "cell_type": "code",
   "execution_count": 73,
   "metadata": {
    "ExecuteTime": {
     "end_time": "2021-06-29T10:54:45.838834Z",
     "start_time": "2021-06-29T10:54:45.102541Z"
    }
   },
   "outputs": [
    {
     "name": "stdout",
     "output_type": "stream",
     "text": [
      "Shape of the DataFrame: (237221, 9)\n"
     ]
    },
    {
     "data": {
      "text/html": [
       "<div>\n",
       "<style scoped>\n",
       "    .dataframe tbody tr th:only-of-type {\n",
       "        vertical-align: middle;\n",
       "    }\n",
       "\n",
       "    .dataframe tbody tr th {\n",
       "        vertical-align: top;\n",
       "    }\n",
       "\n",
       "    .dataframe thead th {\n",
       "        text-align: right;\n",
       "    }\n",
       "</style>\n",
       "<table border=\"1\" class=\"dataframe\">\n",
       "  <thead>\n",
       "    <tr style=\"text-align: right;\">\n",
       "      <th></th>\n",
       "      <th>INCIDENT_NUMBER</th>\n",
       "      <th>OFFENSE_CODE_GROUP</th>\n",
       "      <th>SHOOTING</th>\n",
       "      <th>OCCURRED_ON_DATE</th>\n",
       "      <th>LAT</th>\n",
       "      <th>LONG</th>\n",
       "      <th>NAME</th>\n",
       "      <th>LAT_POLICE_STATION</th>\n",
       "      <th>LONG_POLICE_STATION</th>\n",
       "    </tr>\n",
       "  </thead>\n",
       "  <tbody>\n",
       "    <tr>\n",
       "      <th>0</th>\n",
       "      <td>I192068249</td>\n",
       "      <td>Other</td>\n",
       "      <td>0</td>\n",
       "      <td>2015-08-28 10:20:00</td>\n",
       "      <td>42.330119</td>\n",
       "      <td>-71.084251</td>\n",
       "      <td>Roxbury</td>\n",
       "      <td>42.328894</td>\n",
       "      <td>-71.085359</td>\n",
       "    </tr>\n",
       "    <tr>\n",
       "      <th>1</th>\n",
       "      <td>I182074094</td>\n",
       "      <td>Violence and harassment</td>\n",
       "      <td>0</td>\n",
       "      <td>2015-09-14 09:31:00</td>\n",
       "      <td>42.315142</td>\n",
       "      <td>-71.067047</td>\n",
       "      <td>Roxbury</td>\n",
       "      <td>42.328894</td>\n",
       "      <td>-71.085359</td>\n",
       "    </tr>\n",
       "    <tr>\n",
       "      <th>2</th>\n",
       "      <td>I182054888</td>\n",
       "      <td>Violence and harassment</td>\n",
       "      <td>0</td>\n",
       "      <td>2015-07-12 15:37:00</td>\n",
       "      <td>42.312243</td>\n",
       "      <td>-71.075499</td>\n",
       "      <td>Roxbury</td>\n",
       "      <td>42.328894</td>\n",
       "      <td>-71.085359</td>\n",
       "    </tr>\n",
       "    <tr>\n",
       "      <th>3</th>\n",
       "      <td>I182054888</td>\n",
       "      <td>Other</td>\n",
       "      <td>0</td>\n",
       "      <td>2015-07-12 15:37:00</td>\n",
       "      <td>42.312243</td>\n",
       "      <td>-71.075499</td>\n",
       "      <td>Roxbury</td>\n",
       "      <td>42.328894</td>\n",
       "      <td>-71.085359</td>\n",
       "    </tr>\n",
       "    <tr>\n",
       "      <th>4</th>\n",
       "      <td>I182054888</td>\n",
       "      <td>Other</td>\n",
       "      <td>0</td>\n",
       "      <td>2015-07-12 15:37:00</td>\n",
       "      <td>42.312243</td>\n",
       "      <td>-71.075499</td>\n",
       "      <td>Roxbury</td>\n",
       "      <td>42.328894</td>\n",
       "      <td>-71.085359</td>\n",
       "    </tr>\n",
       "  </tbody>\n",
       "</table>\n",
       "</div>"
      ],
      "text/plain": [
       "  INCIDENT_NUMBER       OFFENSE_CODE_GROUP  SHOOTING     OCCURRED_ON_DATE  \\\n",
       "0      I192068249                    Other         0  2015-08-28 10:20:00   \n",
       "1      I182074094  Violence and harassment         0  2015-09-14 09:31:00   \n",
       "2      I182054888  Violence and harassment         0  2015-07-12 15:37:00   \n",
       "3      I182054888                    Other         0  2015-07-12 15:37:00   \n",
       "4      I182054888                    Other         0  2015-07-12 15:37:00   \n",
       "\n",
       "         LAT       LONG     NAME  LAT_POLICE_STATION  LONG_POLICE_STATION  \n",
       "0  42.330119 -71.084251  Roxbury           42.328894           -71.085359  \n",
       "1  42.315142 -71.067047  Roxbury           42.328894           -71.085359  \n",
       "2  42.312243 -71.075499  Roxbury           42.328894           -71.085359  \n",
       "3  42.312243 -71.075499  Roxbury           42.328894           -71.085359  \n",
       "4  42.312243 -71.075499  Roxbury           42.328894           -71.085359  "
      ]
     },
     "execution_count": 73,
     "metadata": {},
     "output_type": "execute_result"
    }
   ],
   "source": [
    "# Load the dataset\n",
    "from data import load_data_viz_data\n",
    "\n",
    "data = load_data_viz_data()\n",
    "data[['LAT','LONG']] = data[['LAT','LONG']].astype('float64')\n",
    "\n",
    "print(\"Shape of the DataFrame:\", data.shape)\n",
    "\n",
    "data.head()"
   ]
  },
  {
   "cell_type": "code",
   "execution_count": 76,
   "metadata": {
    "ExecuteTime": {
     "end_time": "2021-06-29T10:56:08.643096Z",
     "start_time": "2021-06-29T10:56:08.298897Z"
    }
   },
   "outputs": [
    {
     "data": {
      "text/plain": [
       "False    225884\n",
       "True      11337\n",
       "dtype: int64"
      ]
     },
     "execution_count": 76,
     "metadata": {},
     "output_type": "execute_result"
    }
   ],
   "source": [
    "data.duplicated().value_counts()"
   ]
  },
  {
   "cell_type": "code",
   "execution_count": 84,
   "metadata": {
    "ExecuteTime": {
     "end_time": "2021-06-29T10:58:45.992973Z",
     "start_time": "2021-06-29T10:58:45.616839Z"
    }
   },
   "outputs": [],
   "source": [
    "# Dropping duplicates\n",
    "data = data.drop_duplicates()"
   ]
  },
  {
   "cell_type": "markdown",
   "metadata": {},
   "source": [
    "## 2.1 Further data manipulations"
   ]
  },
  {
   "cell_type": "markdown",
   "metadata": {},
   "source": [
    "In this section, we are going to answer two specific questions that the head of the Police Department of Boston asked your team, about the characteristics of the incidents that occur in the various districts of the municipality."
   ]
  },
  {
   "cell_type": "markdown",
   "metadata": {},
   "source": [
    "### 2.1.1 Most represented type of incident per district"
   ]
  },
  {
   "cell_type": "markdown",
   "metadata": {},
   "source": [
    "First, the head of the Police Department of Boston wants to know what incident category is most often found in each district. \n",
    "\n",
    "**📝 Construct a DataFrame with**\n",
    "- **one row per police district, designated by its full name**\n",
    "- **one text column that indicates the name of the most common category of incident in the district over the whole sample period.**\n",
    "\n",
    "💡 Hint: you may need to first define a custom aggregation function."
   ]
  },
  {
   "cell_type": "code",
   "execution_count": 37,
   "metadata": {
    "ExecuteTime": {
     "end_time": "2021-06-29T09:57:09.066187Z",
     "start_time": "2021-06-29T09:57:09.056861Z"
    }
   },
   "outputs": [],
   "source": [
    "# Lazy programming\n",
    "from statistics import mode"
   ]
  },
  {
   "cell_type": "code",
   "execution_count": 85,
   "metadata": {
    "ExecuteTime": {
     "end_time": "2021-06-29T10:58:50.600149Z",
     "start_time": "2021-06-29T10:58:50.503674Z"
    }
   },
   "outputs": [
    {
     "data": {
      "text/html": [
       "<div>\n",
       "<style scoped>\n",
       "    .dataframe tbody tr th:only-of-type {\n",
       "        vertical-align: middle;\n",
       "    }\n",
       "\n",
       "    .dataframe tbody tr th {\n",
       "        vertical-align: top;\n",
       "    }\n",
       "\n",
       "    .dataframe thead th {\n",
       "        text-align: right;\n",
       "    }\n",
       "</style>\n",
       "<table border=\"1\" class=\"dataframe\">\n",
       "  <thead>\n",
       "    <tr style=\"text-align: right;\">\n",
       "      <th></th>\n",
       "      <th>OFFENSE_CODE_GROUP</th>\n",
       "    </tr>\n",
       "    <tr>\n",
       "      <th>NAME</th>\n",
       "      <th></th>\n",
       "    </tr>\n",
       "  </thead>\n",
       "  <tbody>\n",
       "    <tr>\n",
       "      <th>Brighton</th>\n",
       "      <td>Larceny and vandalism</td>\n",
       "    </tr>\n",
       "    <tr>\n",
       "      <th>Charlestown</th>\n",
       "      <td>Larceny and vandalism</td>\n",
       "    </tr>\n",
       "    <tr>\n",
       "      <th>Dorchester</th>\n",
       "      <td>Larceny and vandalism</td>\n",
       "    </tr>\n",
       "    <tr>\n",
       "      <th>Downtown</th>\n",
       "      <td>Larceny and vandalism</td>\n",
       "    </tr>\n",
       "    <tr>\n",
       "      <th>East Boston</th>\n",
       "      <td>Larceny and vandalism</td>\n",
       "    </tr>\n",
       "    <tr>\n",
       "      <th>Hyde Park</th>\n",
       "      <td>Larceny and vandalism</td>\n",
       "    </tr>\n",
       "    <tr>\n",
       "      <th>Jamaica Plain</th>\n",
       "      <td>Larceny and vandalism</td>\n",
       "    </tr>\n",
       "    <tr>\n",
       "      <th>Mattapan</th>\n",
       "      <td>Police investigation procedure</td>\n",
       "    </tr>\n",
       "    <tr>\n",
       "      <th>Roxbury</th>\n",
       "      <td>Larceny and vandalism</td>\n",
       "    </tr>\n",
       "    <tr>\n",
       "      <th>South Boston</th>\n",
       "      <td>Larceny and vandalism</td>\n",
       "    </tr>\n",
       "    <tr>\n",
       "      <th>South End</th>\n",
       "      <td>Larceny and vandalism</td>\n",
       "    </tr>\n",
       "    <tr>\n",
       "      <th>West Roxbury</th>\n",
       "      <td>Larceny and vandalism</td>\n",
       "    </tr>\n",
       "  </tbody>\n",
       "</table>\n",
       "</div>"
      ],
      "text/plain": [
       "                           OFFENSE_CODE_GROUP\n",
       "NAME                                         \n",
       "Brighton                Larceny and vandalism\n",
       "Charlestown             Larceny and vandalism\n",
       "Dorchester              Larceny and vandalism\n",
       "Downtown                Larceny and vandalism\n",
       "East Boston             Larceny and vandalism\n",
       "Hyde Park               Larceny and vandalism\n",
       "Jamaica Plain           Larceny and vandalism\n",
       "Mattapan       Police investigation procedure\n",
       "Roxbury                 Larceny and vandalism\n",
       "South Boston            Larceny and vandalism\n",
       "South End               Larceny and vandalism\n",
       "West Roxbury            Larceny and vandalism"
      ]
     },
     "execution_count": 85,
     "metadata": {},
     "output_type": "execute_result"
    }
   ],
   "source": [
    "data.groupby(by=\"NAME\").agg({\"OFFENSE_CODE_GROUP\":mode})"
   ]
  },
  {
   "cell_type": "markdown",
   "metadata": {},
   "source": [
    "**❓ Can you tell what is the second most common offense int the Brighton district?**"
   ]
  },
  {
   "cell_type": "code",
   "execution_count": 86,
   "metadata": {
    "ExecuteTime": {
     "end_time": "2021-06-29T10:58:53.128677Z",
     "start_time": "2021-06-29T10:58:53.100266Z"
    }
   },
   "outputs": [],
   "source": [
    "# No super readable one-liner, I agree\n",
    "second_most_common_offence = data[data[\"NAME\"] == \"Brighton\"][\"OFFENSE_CODE_GROUP\"].value_counts().sort_values().index[-2]"
   ]
  },
  {
   "cell_type": "markdown",
   "metadata": {},
   "source": [
    "### Average distance to the police station per district"
   ]
  },
  {
   "cell_type": "markdown",
   "metadata": {},
   "source": [
    "Second, based on the Haversine distance function defined below, the head of the Police Department would like to know, for each district, **the average distance between the location of the incident and the police station**. \n",
    "\n",
    "**📝 Construct a DataFrame with one row per police district, designated by its full name, and one column that displays this average Haversine distance.**"
   ]
  },
  {
   "cell_type": "code",
   "execution_count": 58,
   "metadata": {
    "ExecuteTime": {
     "end_time": "2021-06-29T10:18:21.101236Z",
     "start_time": "2021-06-29T10:18:21.086329Z"
    }
   },
   "outputs": [],
   "source": [
    "# Haversine distance function\n",
    "from math import radians, sin, cos, asin, sqrt\n",
    "\n",
    "def haversine_distance(lon1, lat1, lon2, lat2):\n",
    "    \"\"\"\n",
    "    Compute distance (km) between two pairs of (lat, lng) coordinates\n",
    "    See - (https://en.wikipedia.org/wiki/Haversine_formula)\n",
    "    \"\"\"\n",
    "    \n",
    "    lon1, lat1, lon2, lat2 = map(radians, [lon1, lat1, lon2, lat2])\n",
    "    dlon = lon2 - lon1\n",
    "    dlat = lat2 - lat1\n",
    "    \n",
    "    a = sin(dlat / 2) ** 2 + cos(lat1) * cos(lat2) * sin(dlon / 2) ** 2\n",
    "    \n",
    "    return 2 * 6371 * asin(sqrt(a))"
   ]
  },
  {
   "cell_type": "markdown",
   "metadata": {},
   "source": [
    "I noticed some rows have the same incident number, with the same location, and we don't want to count the same incidents several times, so let's create a DF with unique incident numbers"
   ]
  },
  {
   "cell_type": "code",
   "execution_count": 89,
   "metadata": {
    "ExecuteTime": {
     "end_time": "2021-06-29T11:05:57.499169Z",
     "start_time": "2021-06-29T11:05:56.885596Z"
    }
   },
   "outputs": [],
   "source": [
    "unique_data = data.groupby(by=\"INCIDENT_NUMBER\").first()"
   ]
  },
  {
   "cell_type": "markdown",
   "metadata": {},
   "source": [
    "Adding a \"Distance to station\" column to unique_data"
   ]
  },
  {
   "cell_type": "code",
   "execution_count": 92,
   "metadata": {
    "ExecuteTime": {
     "end_time": "2021-06-29T11:07:09.806218Z",
     "start_time": "2021-06-29T11:07:04.334967Z"
    }
   },
   "outputs": [],
   "source": [
    "unique_data[\"Distance to station\"] = unique_data.apply(lambda x : haversine_distance(\\\n",
    "    x[\"LONG\"], x[\"LAT\"], \\\n",
    "    x[\"LONG_POLICE_STATION\"], x[\"LAT_POLICE_STATION\"]), \\\n",
    "    axis=1)"
   ]
  },
  {
   "cell_type": "code",
   "execution_count": 96,
   "metadata": {
    "ExecuteTime": {
     "end_time": "2021-06-29T11:11:14.027656Z",
     "start_time": "2021-06-29T11:11:14.023447Z"
    }
   },
   "outputs": [],
   "source": [
    "from statistics import mean"
   ]
  },
  {
   "cell_type": "code",
   "execution_count": 97,
   "metadata": {
    "ExecuteTime": {
     "end_time": "2021-06-29T11:11:15.839907Z",
     "start_time": "2021-06-29T11:11:15.589701Z"
    }
   },
   "outputs": [],
   "source": [
    "average_distance_df = unique_data.groupby(by=\"NAME\").agg({\"Distance to station\":mean})"
   ]
  },
  {
   "cell_type": "code",
   "execution_count": 98,
   "metadata": {
    "ExecuteTime": {
     "end_time": "2021-06-29T11:11:20.215387Z",
     "start_time": "2021-06-29T11:11:20.202944Z"
    },
    "scrolled": false,
    "tags": [
     "challengify"
    ]
   },
   "outputs": [
    {
     "data": {
      "text/html": [
       "<div>\n",
       "<style scoped>\n",
       "    .dataframe tbody tr th:only-of-type {\n",
       "        vertical-align: middle;\n",
       "    }\n",
       "\n",
       "    .dataframe tbody tr th {\n",
       "        vertical-align: top;\n",
       "    }\n",
       "\n",
       "    .dataframe thead th {\n",
       "        text-align: right;\n",
       "    }\n",
       "</style>\n",
       "<table border=\"1\" class=\"dataframe\">\n",
       "  <thead>\n",
       "    <tr style=\"text-align: right;\">\n",
       "      <th></th>\n",
       "      <th>Distance to station</th>\n",
       "    </tr>\n",
       "    <tr>\n",
       "      <th>NAME</th>\n",
       "      <th></th>\n",
       "    </tr>\n",
       "  </thead>\n",
       "  <tbody>\n",
       "    <tr>\n",
       "      <th>Brighton</th>\n",
       "      <td>4.010910</td>\n",
       "    </tr>\n",
       "    <tr>\n",
       "      <th>Charlestown</th>\n",
       "      <td>53.094917</td>\n",
       "    </tr>\n",
       "    <tr>\n",
       "      <th>Dorchester</th>\n",
       "      <td>2.867853</td>\n",
       "    </tr>\n",
       "    <tr>\n",
       "      <th>Downtown</th>\n",
       "      <td>6.627889</td>\n",
       "    </tr>\n",
       "    <tr>\n",
       "      <th>East Boston</th>\n",
       "      <td>5.125539</td>\n",
       "    </tr>\n",
       "    <tr>\n",
       "      <th>Hyde Park</th>\n",
       "      <td>2.455216</td>\n",
       "    </tr>\n",
       "    <tr>\n",
       "      <th>Jamaica Plain</th>\n",
       "      <td>2.788570</td>\n",
       "    </tr>\n",
       "    <tr>\n",
       "      <th>Mattapan</th>\n",
       "      <td>1.983334</td>\n",
       "    </tr>\n",
       "    <tr>\n",
       "      <th>Roxbury</th>\n",
       "      <td>2.999867</td>\n",
       "    </tr>\n",
       "    <tr>\n",
       "      <th>South Boston</th>\n",
       "      <td>30.751178</td>\n",
       "    </tr>\n",
       "    <tr>\n",
       "      <th>South End</th>\n",
       "      <td>1.965858</td>\n",
       "    </tr>\n",
       "    <tr>\n",
       "      <th>West Roxbury</th>\n",
       "      <td>17.490740</td>\n",
       "    </tr>\n",
       "  </tbody>\n",
       "</table>\n",
       "</div>"
      ],
      "text/plain": [
       "               Distance to station\n",
       "NAME                              \n",
       "Brighton                  4.010910\n",
       "Charlestown              53.094917\n",
       "Dorchester                2.867853\n",
       "Downtown                  6.627889\n",
       "East Boston               5.125539\n",
       "Hyde Park                 2.455216\n",
       "Jamaica Plain             2.788570\n",
       "Mattapan                  1.983334\n",
       "Roxbury                   2.999867\n",
       "South Boston             30.751178\n",
       "South End                 1.965858\n",
       "West Roxbury             17.490740"
      ]
     },
     "execution_count": 98,
     "metadata": {},
     "output_type": "execute_result"
    }
   ],
   "source": [
    "average_distance_df"
   ]
  },
  {
   "cell_type": "markdown",
   "metadata": {},
   "source": [
    "**❓ Can you tell what is the average distance between the police station and the offenses in the Brighton district?**"
   ]
  },
  {
   "cell_type": "code",
   "execution_count": 102,
   "metadata": {
    "ExecuteTime": {
     "end_time": "2021-06-29T11:13:35.145192Z",
     "start_time": "2021-06-29T11:13:35.141341Z"
    },
    "tags": [
     "challengify"
    ]
   },
   "outputs": [],
   "source": [
    "average_distance_km = average_distance_df.loc[\"Brighton\", \"Distance to station\"]"
   ]
  },
  {
   "cell_type": "code",
   "execution_count": 103,
   "metadata": {
    "ExecuteTime": {
     "end_time": "2021-06-29T11:13:44.379675Z",
     "start_time": "2021-06-29T11:13:44.372818Z"
    }
   },
   "outputs": [],
   "source": [
    "result = ChallengeResult('manipulation',\n",
    "                         second_most_common_offence=second_most_common_offence,\n",
    "                         average_distance_km=average_distance_km)\n",
    "result.write()"
   ]
  },
  {
   "cell_type": "markdown",
   "metadata": {},
   "source": [
    "# 3. Short presentation (REQUIRED TO VALIDATE THE CERTIFICATION)\n",
    "🚨🚨🚨🚨🚨🚨"
   ]
  },
  {
   "cell_type": "markdown",
   "metadata": {},
   "source": [
    "Using the latest dataset that you loaded, your mission is now to prepare 5 slides (including a title slide) that you would present to the head of the Police Department. You may or may not, as you prefer, include the output of the two \"Further data manipulations\" tasks in your presentation.\n",
    "\n",
    "⚠️  You can use any presentation editor of your choice, but **the slides must be shared either in HTML or in PDF format and saved in the current directory**"
   ]
  },
  {
   "cell_type": "markdown",
   "metadata": {},
   "source": [
    "Before you get started, here are four small pieces of advice:\n",
    "\n",
    "- to prepare your data visualisations, do not hesitate to create a separate, blank notebook; \n",
    "\n",
    "\n",
    "- pay particular attention to the readability and the clarity of your legends, titles, charts and tables; \n",
    "\n",
    "\n",
    "- the Pandas `resample` method might be useful if you want to plot time trends;\n",
    "\n",
    "\n",
    "- keep in mind that you are working with real data and sometimes, data are not very talkative. Do not feel discouraged if your charts do not provide revolutionary insights: typically, an absence of trend is a substantial piece of information!"
   ]
  },
  {
   "cell_type": "markdown",
   "metadata": {},
   "source": [
    "Good luck in changing Boston residents' lives!"
   ]
  },
  {
   "cell_type": "code",
   "execution_count": 160,
   "metadata": {
    "ExecuteTime": {
     "end_time": "2021-06-29T15:53:20.346252Z",
     "start_time": "2021-06-29T15:53:17.678749Z"
    }
   },
   "outputs": [
    {
     "data": {
      "text/plain": [
       "<seaborn.axisgrid.FacetGrid at 0x1330a2a30>"
      ]
     },
     "execution_count": 160,
     "metadata": {},
     "output_type": "execute_result"
    },
    {
     "data": {
      "image/png": "[encoded data removed]",
      "text/plain": [
       "<Figure size 1440x1080 with 12 Axes>"
      ]
     },
     "metadata": {
      "needs_background": "light"
     },
     "output_type": "display_data"
    }
   ],
   "source": [
    "df = data.groupby(by=[\"NAME\",\"OFFENSE_CODE_GROUP\"]).count()[\"INCIDENT_NUMBER\"].reset_index()\n",
    "df.columns = ['District', 'Incident type', 'Number']\n",
    "sns.catplot(y = \"Incident type\", x = \"Number\", data = df, col = \"District\", col_wrap = 4, orient = \"h\", kind = \"bar\")"
   ]
  },
  {
   "cell_type": "code",
   "execution_count": 161,
   "metadata": {
    "ExecuteTime": {
     "end_time": "2021-06-29T16:10:16.834797Z",
     "start_time": "2021-06-29T16:10:16.471447Z"
    }
   },
   "outputs": [
    {
     "data": {
      "image/png": "[encoded data removed]",
      "text/plain": [
       "<Figure size 432x288 with 1 Axes>"
      ]
     },
     "metadata": {
      "needs_background": "light"
     },
     "output_type": "display_data"
    }
   ],
   "source": [
    "sns.barplot(data = average_distance_df.reset_index(), y = \"NAME\", x = \"Distance to station\", orient=\"h\")\n",
    "plt.title('Distance between incidents and police station')\n",
    "plt.ylabel('');\n",
    "plt.xlabel('Average distance (km)');\n",
    "plt.savefig('District.png')"
   ]
  },
  {
   "cell_type": "markdown",
   "metadata": {},
   "source": [
    "# A word of conclusion"
   ]
  },
  {
   "cell_type": "markdown",
   "metadata": {},
   "source": [
    "Congratulations for going through the exercise 🎉\n",
    "\n",
    "If you wish to pursue your analysis at some point, note that all datasets (and many others) are publicly available online, on the [Analyze Boston](https://data.boston.gov) website.\n",
    "\n",
    "Besides, if you are interested in the topic, you can start by reading the work of Nobel Prize laureate Gary Becker, who was the first to model crime as a rational phenomenon, similarly to an economic decision. This model, although it has limitations, marked a breakthrough in the study of crime and paved the way for many empirical studies that further analysed the socio-economic determinants of illegal activities. \n",
    "\n",
    "👉 [Link](https://olis.leg.state.or.us/liz/2017R1/Downloads/CommitteeMeetingDocument/125036) to download a full-text version of \"Crime and Punishment: An Economic Approach\" by Becker (1968)"
   ]
  }
 ],
 "metadata": {
  "kernelspec": {
   "display_name": "Python 3",
   "language": "python",
   "name": "python3"
  },
  "language_info": {
   "codemirror_mode": {
    "name": "ipython",
    "version": 3
   },
   "file_extension": ".py",
   "mimetype": "text/x-python",
   "name": "python",
   "nbconvert_exporter": "python",
   "pygments_lexer": "ipython3",
   "version": "3.8.6"
  },
  "toc": {
   "base_numbering": 1,
   "nav_menu": {},
   "number_sections": false,
   "sideBar": true,
   "skip_h1_title": false,
   "title_cell": "Table of Contents",
   "title_sidebar": "Contents",
   "toc_cell": false,
   "toc_position": {
    "height": "calc(100% - 180px)",
    "left": "10px",
    "top": "150px",
    "width": "288px"
   },
   "toc_section_display": true,
   "toc_window_display": true
  }
 },
 "nbformat": 4,
 "nbformat_minor": 4
}
